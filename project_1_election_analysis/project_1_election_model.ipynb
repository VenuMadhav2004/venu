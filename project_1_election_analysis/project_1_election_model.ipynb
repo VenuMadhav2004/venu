{
  "cells": [
    {
      "cell_type": "markdown",
      "metadata": {
        "id": "QVE2J8DCfdqy"
      },
      "source": [
        "## Loading libraries"
      ]
    },
    {
      "cell_type": "code",
      "execution_count": 4,
      "metadata": {
        "id": "L862-aejfg_C"
      },
      "outputs": [],
      "source": [
        "import requests\n",
        "import json\n",
        "import pandas as pd\n",
        "import numpy as np\n",
        "from urllib.parse import urljoin\n",
        "from tqdm import tqdm\n",
        "from time import sleep\n",
        "from geopy.geocoders import Nominatim\n",
        "from geopy.distance import geodesic\n",
        "import seaborn as sns\n",
        "import matplotlib.pyplot as plt"
      ]
    },
    {
      "cell_type": "markdown",
      "metadata": {
        "id": "BkTZnNnHTY0-"
      },
      "source": [
        "## Data Scraping"
      ]
    },
    {
      "cell_type": "code",
      "execution_count": 5,
      "metadata": {
        "id": "xtNUItSuTSAr"
      },
      "outputs": [],
      "source": [
        "def get_data_and_next_page(response_text:str):\n",
        "    start_idx = response_text.find('const data =') + len('const data =')\n",
        "    end_idx = response_text.rfind(';', start_idx, response_text.find('const next ='))\n",
        "    data_json = response_text[start_idx:end_idx].strip()\n",
        "    data = json.loads(data_json)\n",
        "\n",
        "    start_idx = response_text.find('const next =') + len('const next =')\n",
        "    end_idx = response_text.find(';', start_idx)\n",
        "    next_page = response_text[start_idx:end_idx].strip().strip('\"')\n",
        "\n",
        "    return data, next_page\n",
        "\n",
        "def navigate_next(base_url, next_page):\n",
        "    if next_page != \"null\":\n",
        "        return urljoin(base_url, next_page)\n",
        "    else:\n",
        "        return None\n",
        "\n",
        "def scrape_data(base_url, state_data):\n",
        "    election_data = {\"ID\": [], \"ST_NAME\": [], \"YEAR\": [], \"AC\": [],\n",
        "                 \"CANDIDATE\": [], \"SEX\": [], \"AGE\": [], \"CATEGORY\": [],\n",
        "                 \"PARTY\": [], \"VOTES\": []}\n",
        "    for entry in state_data:\n",
        "        next = entry['link']\n",
        "        url = urljoin(base_url, next)\n",
        "        while True:\n",
        "            response = requests.get(url)\n",
        "            data, next_page = get_data_and_next_page(response.text)\n",
        "            for row in tqdm(data, desc=f\"Scraping data for year {entry['YEAR']}\"):\n",
        "                for key in election_data.keys():\n",
        "                    election_data[key].append(str(row.get(key, list(row.values())[0])).strip())\n",
        "            url = navigate_next(base_url, next_page)\n",
        "            if not url:\n",
        "                break\n",
        "    return election_data\n",
        "\n",
        "def save(ST_NAME, AC_NAME, election_data):\n",
        "    df = pd.DataFrame(election_data)\n",
        "    df.replace('', np.nan, inplace=True)\n",
        "    df = df.loc[df['VOTES'] != \"None\"]\n",
        "    df['AC'] = df['AC'].str.replace(r'^\\d+\\s+', '', regex=True)\n",
        "    df['AC'] = df['AC'].str.replace(r'[^a-zA-Z\\s\\.]', '', regex=True)\n",
        "    df['CANDIDATE'] = df['CANDIDATE'].str.replace(r'^\\d+\\s+', '', regex=True)\n",
        "    df['CANDIDATE'] = df['CANDIDATE'].str.replace(r'[^a-zA-Z\\s\\.]', '', regex=True)\n",
        "    df = df.applymap(lambda x: x.strip() if isinstance(x, str) else x)\n",
        "    df = df.drop_duplicates()\n",
        "    df = df.drop_duplicates(subset=['ST_NAME', 'YEAR', 'AC', 'CANDIDATE', 'SEX', 'AGE', 'CATEGORY', 'PARTY', 'VOTES'])\n",
        "    df.to_csv(f\"{ST_NAME}.csv\", index=False)\n",
        "    condition = (df[\"AC\"] == AC_NAME)\n",
        "    df = df[condition]\n",
        "    df.to_csv(f\"{ST_NAME}_{AC_NAME}.csv\", index=False)\n",
        "\n",
        "def find_state_data(start_url, ST_NAME):\n",
        "    url = start_url\n",
        "    state_data = []\n",
        "    n_pages = 10\n",
        "    for i in tqdm(range(n_pages), desc=\"Crawling all pages\"):\n",
        "        if url:\n",
        "            response = requests.get(url)\n",
        "            data, next_page = get_data_and_next_page(response.text)\n",
        "            state_data.extend([entry for entry in data if entry['ST_NAME'] == ST_NAME])\n",
        "            url = navigate_next(start_url, next_page)\n",
        "    return state_data\n",
        "\n",
        "def main_scraper(ST_NAME, AC_NAME):\n",
        "    start_url = \"https://22f3001919.github.io/tds_project_1/\"\n",
        "    state_data = find_state_data(start_url, ST_NAME)\n",
        "\n",
        "    if not state_data:\n",
        "        print(f\"No data found for state: {ST_NAME}\")\n",
        "        return\n",
        "\n",
        "    election_data = scrape_data(start_url, state_data)\n",
        "    save(ST_NAME, AC_NAME, election_data)\n",
        "    return election_data\n"
      ]
    },
    {
      "cell_type": "code",
      "execution_count": null,
      "metadata": {
        "id": "AzKhjhtHfJFH",
        "outputId": "9a975a52-d34e-473c-f1a3-8266bcddb223"
      },
      "outputs": [
        {
          "name": "stdout",
          "output_type": "stream",
          "text": [
            "Defaulting to user installation because normal site-packages is not writeable\n",
            "Note: you may need to restart the kernel to use updated packages.\n"
          ]
        },
        {
          "name": "stderr",
          "output_type": "stream",
          "text": [
            "WARNING: Retrying (Retry(total=4, connect=None, read=None, redirect=None, status=None)) after connection broken by 'ReadTimeoutError(\"HTTPSConnectionPool(host='pypi.org', port=443): Read timed out. (read timeout=15)\")': /simple/geopy/\n",
            "WARNING: Retrying (Retry(total=3, connect=None, read=None, redirect=None, status=None)) after connection broken by 'ReadTimeoutError(\"HTTPSConnectionPool(host='pypi.org', port=443): Read timed out. (read timeout=15)\")': /simple/geopy/\n",
            "ERROR: Could not find a version that satisfies the requirement geopy (from versions: none)\n",
            "ERROR: No matching distribution found for geopy\n"
          ]
        }
      ],
      "source": [
        "pip install geopy\n"
      ]
    },
    {
      "cell_type": "markdown",
      "metadata": {
        "id": "M8EvJ3bQfu7V"
      },
      "source": [
        "### Change the following according to your ST_NAME and AC_NAME"
      ]
    },
    {
      "cell_type": "code",
      "execution_count": 6,
      "metadata": {
        "colab": {
          "base_uri": "https://localhost:8080/"
        },
        "id": "SJSlhnnmfos-",
        "outputId": "c59d673d-bbb5-44bd-c79f-2c7606a4e702"
      },
      "outputs": [
        {
          "output_type": "stream",
          "name": "stderr",
          "text": [
            "Crawling all pages: 100%|██████████| 10/10 [00:03<00:00,  2.53it/s]\n",
            "Scraping data for year 1967: 100%|██████████| 700/700 [00:00<00:00, 101346.66it/s]\n",
            "Scraping data for year 1967: 100%|██████████| 95/95 [00:00<00:00, 80480.48it/s]\n",
            "Scraping data for year 1971: 100%|██████████| 700/700 [00:00<00:00, 90994.01it/s]\n",
            "Scraping data for year 1971: 100%|██████████| 63/63 [00:00<00:00, 76084.41it/s]\n",
            "Scraping data for year 1977: 100%|██████████| 700/700 [00:00<00:00, 103231.70it/s]\n",
            "Scraping data for year 1977: 100%|██████████| 700/700 [00:00<00:00, 92115.99it/s]\n",
            "Scraping data for year 1977: 100%|██████████| 3/3 [00:00<00:00, 16799.62it/s]\n",
            "Scraping data for year 1980: 100%|██████████| 700/700 [00:00<00:00, 96978.13it/s]\n",
            "Scraping data for year 1980: 100%|██████████| 336/336 [00:00<00:00, 73680.46it/s]\n",
            "Scraping data for year 1984: 100%|██████████| 700/700 [00:00<00:00, 99099.23it/s]\n",
            "Scraping data for year 1984: 100%|██████████| 700/700 [00:00<00:00, 74096.83it/s]\n",
            "Scraping data for year 1984: 100%|██████████| 115/115 [00:00<00:00, 50129.39it/s]\n",
            "Scraping data for year 1989: 100%|██████████| 700/700 [00:00<00:00, 95595.12it/s]\n",
            "Scraping data for year 1989: 100%|██████████| 700/700 [00:00<00:00, 96414.45it/s]\n",
            "Scraping data for year 1989: 100%|██████████| 700/700 [00:00<00:00, 101518.37it/s]\n",
            "Scraping data for year 1989: 100%|██████████| 700/700 [00:00<00:00, 97991.22it/s]\n",
            "Scraping data for year 1989: 100%|██████████| 274/274 [00:00<00:00, 67277.80it/s]\n",
            "Scraping data for year 1991: 100%|██████████| 700/700 [00:00<00:00, 96392.29it/s]\n",
            "Scraping data for year 1991: 100%|██████████| 700/700 [00:00<00:00, 100253.12it/s]\n",
            "Scraping data for year 1991: 100%|██████████| 700/700 [00:00<00:00, 146099.36it/s]\n",
            "Scraping data for year 1991: 100%|██████████| 700/700 [00:00<00:00, 80650.83it/s]\n",
            "Scraping data for year 1991: 100%|██████████| 61/61 [00:00<00:00, 36132.26it/s]\n",
            "Scraping data for year 1996: 100%|██████████| 700/700 [00:00<00:00, 67637.60it/s]\n",
            "Scraping data for year 1996: 100%|██████████| 700/700 [00:00<00:00, 51828.15it/s]\n",
            "Scraping data for year 1996: 100%|██████████| 700/700 [00:00<00:00, 66818.68it/s]\n",
            "Scraping data for year 1996: 100%|██████████| 700/700 [00:00<00:00, 68836.46it/s]\n",
            "Scraping data for year 1996: 100%|██████████| 700/700 [00:00<00:00, 103914.94it/s]\n",
            "Scraping data for year 1996: 100%|██████████| 700/700 [00:00<00:00, 101140.68it/s]\n",
            "Scraping data for year 1996: 100%|██████████| 700/700 [00:00<00:00, 96500.01it/s]\n",
            "Scraping data for year 1996: 100%|██████████| 101/101 [00:00<00:00, 93350.53it/s]\n",
            "Scraping data for year 2001: 100%|██████████| 700/700 [00:00<00:00, 143507.15it/s]\n",
            "Scraping data for year 2001: 100%|██████████| 700/700 [00:00<00:00, 97912.79it/s]\n",
            "Scraping data for year 2001: 100%|██████████| 478/478 [00:00<00:00, 100208.79it/s]\n",
            "Scraping data for year 2006: 100%|██████████| 700/700 [00:00<00:00, 82774.54it/s]\n",
            "Scraping data for year 2006: 100%|██████████| 700/700 [00:00<00:00, 134636.25it/s]\n",
            "Scraping data for year 2006: 100%|██████████| 700/700 [00:00<00:00, 102870.00it/s]\n",
            "Scraping data for year 2006: 100%|██████████| 506/506 [00:00<00:00, 84005.61it/s]\n",
            "Scraping data for year 2011: 100%|██████████| 700/700 [00:00<00:00, 91681.64it/s]\n",
            "Scraping data for year 2011: 100%|██████████| 700/700 [00:00<00:00, 72551.47it/s]\n",
            "Scraping data for year 2011: 100%|██████████| 700/700 [00:00<00:00, 94211.68it/s]\n",
            "Scraping data for year 2011: 100%|██████████| 678/678 [00:00<00:00, 100202.19it/s]\n",
            "Scraping data for year 2016: 100%|██████████| 700/700 [00:00<00:00, 102161.27it/s]\n",
            "Scraping data for year 2016: 100%|██████████| 700/700 [00:00<00:00, 100133.45it/s]\n",
            "Scraping data for year 2016: 100%|██████████| 700/700 [00:00<00:00, 132653.18it/s]\n",
            "Scraping data for year 2016: 100%|██████████| 700/700 [00:00<00:00, 105509.50it/s]\n",
            "Scraping data for year 2016: 100%|██████████| 700/700 [00:00<00:00, 98888.95it/s]\n",
            "Scraping data for year 2016: 100%|██████████| 553/553 [00:00<00:00, 90465.70it/s]\n",
            "Scraping data for year 2021: 100%|██████████| 700/700 [00:00<00:00, 77771.05it/s]\n",
            "Scraping data for year 2021: 100%|██████████| 700/700 [00:00<00:00, 102859.19it/s]\n",
            "Scraping data for year 2021: 100%|██████████| 700/700 [00:00<00:00, 79336.69it/s]\n",
            "Scraping data for year 2021: 100%|██████████| 700/700 [00:00<00:00, 73887.98it/s]\n",
            "Scraping data for year 2021: 100%|██████████| 700/700 [00:00<00:00, 53429.65it/s]\n",
            "Scraping data for year 2021: 100%|██████████| 700/700 [00:00<00:00, 68360.45it/s]\n",
            "Scraping data for year 2021: 100%|██████████| 71/71 [00:00<00:00, 45485.81it/s]\n",
            "<ipython-input-5-13975e1e27af>:45: FutureWarning: DataFrame.applymap has been deprecated. Use DataFrame.map instead.\n",
            "  df = df.applymap(lambda x: x.strip() if isinstance(x, str) else x)\n"
          ]
        }
      ],
      "source": [
        "ST_NAME = \"TAMIL NADU\"\n",
        "AC_NAME = \"PERAMBUR\"\n",
        "# saves full state csv and also constituency csv\n",
        "# scraped data undergoes priliminary cleaning as well\n",
        "data = main_scraper(ST_NAME, AC_NAME)"
      ]
    },
    {
      "cell_type": "markdown",
      "metadata": {
        "id": "hIeOWUJTTgo_"
      },
      "source": [
        "## Terminologies\n",
        "- **Vote Share** - votes of the candidate divided by the total votes in that election year expressed as a percentage\n",
        "- **Gap between elections** -Candidate might not contest in election in consecutive years but take a break and contest after few terms.Eg candidate 'A' contested in election conducted in 1994 and 2004 but didnot contest in the election between 1994-2004\n",
        "- **Margin percentage** - difference in voteshare between contestants\n",
        "- **Lose the deposit** - When the candidate failed to secure at least 1/6th of the total votes cast in that election year\n",
        "- **Absolute majority** - When the candidate secures a vote share exceeding 50%\n"
      ]
    },
    {
      "cell_type": "markdown",
      "metadata": {
        "id": "6Q6iyP6qTbKE"
      },
      "source": [
        "## Questions"
      ]
    },
    {
      "cell_type": "markdown",
      "metadata": {
        "id": "FJw78T66Tmb2"
      },
      "source": [
        "### Q1 For the  given AC_NAME, Identify the candidate who had the greatest change in vote share compared to the previous election, regardless of the gap between elections? [string]\n",
        "- Do not consider NOTA as candidate (but NOTA votes are to be considered as part of the total votes)\n",
        "- If no candidate has participated in two elections, then the answer will be NA\n",
        "- If two candidates have the same vote share change, choose the candidate who came first alphabetically"
      ]
    },
    {
      "cell_type": "code",
      "execution_count": 9,
      "metadata": {
        "id": "Sv76xOHbUEud",
        "colab": {
          "base_uri": "https://localhost:8080/",
          "height": 195
        },
        "outputId": "6cd8d2d4-db99-4225-aecc-b653d3f90af8"
      },
      "outputs": [
        {
          "output_type": "stream",
          "name": "stdout",
          "text": [
            "List of candidates sorted in decreasing order of change in vote share:\n"
          ]
        },
        {
          "output_type": "execute_result",
          "data": {
            "text/plain": [
              "CANDIDATE\n",
              "MAHENDRAN K.     7.587358\n",
              "CHENGAI SIVAM    1.300384\n",
              "dtype: float64"
            ],
            "text/html": [
              "<div>\n",
              "<style scoped>\n",
              "    .dataframe tbody tr th:only-of-type {\n",
              "        vertical-align: middle;\n",
              "    }\n",
              "\n",
              "    .dataframe tbody tr th {\n",
              "        vertical-align: top;\n",
              "    }\n",
              "\n",
              "    .dataframe thead th {\n",
              "        text-align: right;\n",
              "    }\n",
              "</style>\n",
              "<table border=\"1\" class=\"dataframe\">\n",
              "  <thead>\n",
              "    <tr style=\"text-align: right;\">\n",
              "      <th></th>\n",
              "      <th>0</th>\n",
              "    </tr>\n",
              "    <tr>\n",
              "      <th>CANDIDATE</th>\n",
              "      <th></th>\n",
              "    </tr>\n",
              "  </thead>\n",
              "  <tbody>\n",
              "    <tr>\n",
              "      <th>MAHENDRAN K.</th>\n",
              "      <td>7.587358</td>\n",
              "    </tr>\n",
              "    <tr>\n",
              "      <th>CHENGAI SIVAM</th>\n",
              "      <td>1.300384</td>\n",
              "    </tr>\n",
              "  </tbody>\n",
              "</table>\n",
              "</div><br><label><b>dtype:</b> float64</label>"
            ]
          },
          "metadata": {},
          "execution_count": 9
        }
      ],
      "source": [
        "ac_df = pd.read_csv(f\"{ST_NAME}_{AC_NAME}.csv\")\n",
        "ac_df = ac_df[ac_df['VOTES'].notna()]\n",
        "ac_df['TOTAL_VOTES'] = ac_df.groupby('YEAR')['VOTES'].transform('sum')\n",
        "ac_df = ac_df[ac_df['CANDIDATE'] != \"NOTA\"]\n",
        "ac_df['VOTE_SHARE'] = (ac_df['VOTES'] / ac_df['TOTAL_VOTES']) * 100\n",
        "pivot_table = ac_df.pivot_table(values='VOTE_SHARE', index='CANDIDATE', columns='YEAR', aggfunc='sum')\n",
        "pivot_table = pivot_table.dropna(thresh=2)\n",
        "def calc_abs_diffs(series):\n",
        "    non_nan_values = series.dropna()\n",
        "    abs_diffs = non_nan_values.diff().abs().dropna()\n",
        "    return abs_diffs\n",
        "\n",
        "abs_diffs_df = pivot_table.apply(calc_abs_diffs, axis=1)\n",
        "print(\"List of candidates sorted in decreasing order of change in vote share:\")\n",
        "abs_diffs_df.max(axis=1).sort_values(ascending=False)"
      ]
    },
    {
      "cell_type": "markdown",
      "metadata": {
        "id": "TCrMFKelTy22"
      },
      "source": [
        "### Q2 For the  given AC_NAME, Which election year had the most female candidates contesting an election? [string]\n",
        "- If two or more years have the same number of female candidates, choose the latest year.\n",
        "- If there are no female contestants then answer will be NA."
      ]
    },
    {
      "cell_type": "code",
      "execution_count": 10,
      "metadata": {
        "id": "zW12w2X7UFUV",
        "colab": {
          "base_uri": "https://localhost:8080/",
          "height": 415
        },
        "outputId": "e74277ed-3e9b-4de4-fa43-93af6dd772eb"
      },
      "outputs": [
        {
          "output_type": "stream",
          "name": "stdout",
          "text": [
            "List of years sorted in decreasing order of number of female candidates:\n"
          ]
        },
        {
          "output_type": "execute_result",
          "data": {
            "text/plain": [
              "YEAR\n",
              "2016    3\n",
              "1967    2\n",
              "1984    1\n",
              "1989    1\n",
              "1991    1\n",
              "1996    1\n",
              "2001    1\n",
              "2006    1\n",
              "2021    1\n",
              "Name: count, dtype: int64"
            ],
            "text/html": [
              "<div>\n",
              "<style scoped>\n",
              "    .dataframe tbody tr th:only-of-type {\n",
              "        vertical-align: middle;\n",
              "    }\n",
              "\n",
              "    .dataframe tbody tr th {\n",
              "        vertical-align: top;\n",
              "    }\n",
              "\n",
              "    .dataframe thead th {\n",
              "        text-align: right;\n",
              "    }\n",
              "</style>\n",
              "<table border=\"1\" class=\"dataframe\">\n",
              "  <thead>\n",
              "    <tr style=\"text-align: right;\">\n",
              "      <th></th>\n",
              "      <th>count</th>\n",
              "    </tr>\n",
              "    <tr>\n",
              "      <th>YEAR</th>\n",
              "      <th></th>\n",
              "    </tr>\n",
              "  </thead>\n",
              "  <tbody>\n",
              "    <tr>\n",
              "      <th>2016</th>\n",
              "      <td>3</td>\n",
              "    </tr>\n",
              "    <tr>\n",
              "      <th>1967</th>\n",
              "      <td>2</td>\n",
              "    </tr>\n",
              "    <tr>\n",
              "      <th>1984</th>\n",
              "      <td>1</td>\n",
              "    </tr>\n",
              "    <tr>\n",
              "      <th>1989</th>\n",
              "      <td>1</td>\n",
              "    </tr>\n",
              "    <tr>\n",
              "      <th>1991</th>\n",
              "      <td>1</td>\n",
              "    </tr>\n",
              "    <tr>\n",
              "      <th>1996</th>\n",
              "      <td>1</td>\n",
              "    </tr>\n",
              "    <tr>\n",
              "      <th>2001</th>\n",
              "      <td>1</td>\n",
              "    </tr>\n",
              "    <tr>\n",
              "      <th>2006</th>\n",
              "      <td>1</td>\n",
              "    </tr>\n",
              "    <tr>\n",
              "      <th>2021</th>\n",
              "      <td>1</td>\n",
              "    </tr>\n",
              "  </tbody>\n",
              "</table>\n",
              "</div><br><label><b>dtype:</b> int64</label>"
            ]
          },
          "metadata": {},
          "execution_count": 10
        }
      ],
      "source": [
        "ac_df = pd.read_csv(f\"{ST_NAME}_{AC_NAME}.csv\")\n",
        "elections_with_female_candidates = ac_df[ac_df[\"SEX\"] == 'F']\n",
        "print(\"List of years sorted in decreasing order of number of female candidates:\")\n",
        "elections_with_female_candidates['YEAR'].value_counts().sort_values(ascending=False)"
      ]
    },
    {
      "cell_type": "markdown",
      "metadata": {
        "id": "meEFihujTzZl"
      },
      "source": [
        "### Q3 For the given AC_NAME, Find the highest number of female candidates that contested a single election.[integer]\n",
        "- If there are no female contestants then answer will be 0.\n"
      ]
    },
    {
      "cell_type": "code",
      "execution_count": 11,
      "metadata": {
        "id": "MvkdRWBWUFre",
        "colab": {
          "base_uri": "https://localhost:8080/",
          "height": 415
        },
        "outputId": "e612b25f-7f35-44cd-c7e4-412c42ca6e18"
      },
      "outputs": [
        {
          "output_type": "stream",
          "name": "stdout",
          "text": [
            "List of years sorted in decreasing order of number of female candidates:\n"
          ]
        },
        {
          "output_type": "execute_result",
          "data": {
            "text/plain": [
              "YEAR\n",
              "2016    3\n",
              "1967    2\n",
              "1984    1\n",
              "1989    1\n",
              "1991    1\n",
              "1996    1\n",
              "2001    1\n",
              "2006    1\n",
              "2021    1\n",
              "Name: count, dtype: int64"
            ],
            "text/html": [
              "<div>\n",
              "<style scoped>\n",
              "    .dataframe tbody tr th:only-of-type {\n",
              "        vertical-align: middle;\n",
              "    }\n",
              "\n",
              "    .dataframe tbody tr th {\n",
              "        vertical-align: top;\n",
              "    }\n",
              "\n",
              "    .dataframe thead th {\n",
              "        text-align: right;\n",
              "    }\n",
              "</style>\n",
              "<table border=\"1\" class=\"dataframe\">\n",
              "  <thead>\n",
              "    <tr style=\"text-align: right;\">\n",
              "      <th></th>\n",
              "      <th>count</th>\n",
              "    </tr>\n",
              "    <tr>\n",
              "      <th>YEAR</th>\n",
              "      <th></th>\n",
              "    </tr>\n",
              "  </thead>\n",
              "  <tbody>\n",
              "    <tr>\n",
              "      <th>2016</th>\n",
              "      <td>3</td>\n",
              "    </tr>\n",
              "    <tr>\n",
              "      <th>1967</th>\n",
              "      <td>2</td>\n",
              "    </tr>\n",
              "    <tr>\n",
              "      <th>1984</th>\n",
              "      <td>1</td>\n",
              "    </tr>\n",
              "    <tr>\n",
              "      <th>1989</th>\n",
              "      <td>1</td>\n",
              "    </tr>\n",
              "    <tr>\n",
              "      <th>1991</th>\n",
              "      <td>1</td>\n",
              "    </tr>\n",
              "    <tr>\n",
              "      <th>1996</th>\n",
              "      <td>1</td>\n",
              "    </tr>\n",
              "    <tr>\n",
              "      <th>2001</th>\n",
              "      <td>1</td>\n",
              "    </tr>\n",
              "    <tr>\n",
              "      <th>2006</th>\n",
              "      <td>1</td>\n",
              "    </tr>\n",
              "    <tr>\n",
              "      <th>2021</th>\n",
              "      <td>1</td>\n",
              "    </tr>\n",
              "  </tbody>\n",
              "</table>\n",
              "</div><br><label><b>dtype:</b> int64</label>"
            ]
          },
          "metadata": {},
          "execution_count": 11
        }
      ],
      "source": [
        "ac_df = pd.read_csv(f\"{ST_NAME}_{AC_NAME}.csv\")\n",
        "elections_with_female_candidates = ac_df[ac_df[\"SEX\"] == 'F']\n",
        "print(\"List of years sorted in decreasing order of number of female candidates:\")\n",
        "elections_with_female_candidates['YEAR'].value_counts().sort_values(ascending=False)"
      ]
    },
    {
      "cell_type": "markdown",
      "metadata": {
        "id": "evpLD6tzT0LH"
      },
      "source": [
        "### Q4 What is the highest margin percentage by which the winning candidate has defeated the runner up in any election? Give your answer to 2 decimal places. [float]"
      ]
    },
    {
      "cell_type": "code",
      "execution_count": 12,
      "metadata": {
        "id": "wgjds_8eUGMp",
        "colab": {
          "base_uri": "https://localhost:8080/"
        },
        "outputId": "63fcbf64-e77a-4a3f-f7ad-c5d39662a563"
      },
      "outputs": [
        {
          "output_type": "execute_result",
          "data": {
            "text/plain": [
              "43.29994063520333"
            ]
          },
          "metadata": {},
          "execution_count": 12
        }
      ],
      "source": [
        "ac_df = pd.read_csv(f\"{ST_NAME}_{AC_NAME}.csv\")\n",
        "winners = ac_df.loc[ac_df.groupby('YEAR')['VOTES'].idxmax()].copy()\n",
        "runner_ups = ac_df.drop(winners.index)\n",
        "runner_ups = ac_df.loc[runner_ups.groupby('YEAR')['VOTES'].idxmax()]\n",
        "total_votes = ac_df.groupby('YEAR')['VOTES'].sum().values\n",
        "winners[\"VOTE_SHARE\"] = 100 * ac_df.loc[ac_df.groupby('YEAR')['VOTES'].idxmax()][\"VOTES\"].values / total_votes\n",
        "runner_ups[\"VOTE_SHARE\"] = 100 * ac_df.loc[runner_ups.groupby('YEAR')['VOTES'].idxmax()][\"VOTES\"].values / total_votes\n",
        "margins = winners[\"VOTE_SHARE\"].values - runner_ups[\"VOTE_SHARE\"].values\n",
        "margins.max()"
      ]
    },
    {
      "cell_type": "markdown",
      "metadata": {
        "id": "Q42-vwI7T0U9"
      },
      "source": [
        "### Q5 For the given AC_NAME, In which year did the winning candidate have the biggest margin percentage win over the runner up? [string]\n",
        "- If there are two or more years with the same winning margin, choose the latest one\n"
      ]
    },
    {
      "cell_type": "code",
      "execution_count": 13,
      "metadata": {
        "id": "SdLD1CDSUGzX",
        "colab": {
          "base_uri": "https://localhost:8080/",
          "height": 540
        },
        "outputId": "8e6e6efd-31e2-43ed-f468-6ac91786995b"
      },
      "outputs": [
        {
          "output_type": "stream",
          "name": "stdout",
          "text": [
            "List of years sorted in decreasing order of margin with runner up:\n"
          ]
        },
        {
          "output_type": "execute_result",
          "data": {
            "text/plain": [
              "YEAR\n",
              "1996    43.299941\n",
              "1989    32.795086\n",
              "2021    27.434913\n",
              "1977    16.864513\n",
              "1971    13.810651\n",
              "1991    13.310592\n",
              "2001    12.969224\n",
              "2011    10.753212\n",
              "1980     9.173702\n",
              "1967     8.977526\n",
              "1984     7.165236\n",
              "2006     1.528685\n",
              "2016     0.275067\n",
              "Name: MARGIN, dtype: float64"
            ],
            "text/html": [
              "<div>\n",
              "<style scoped>\n",
              "    .dataframe tbody tr th:only-of-type {\n",
              "        vertical-align: middle;\n",
              "    }\n",
              "\n",
              "    .dataframe tbody tr th {\n",
              "        vertical-align: top;\n",
              "    }\n",
              "\n",
              "    .dataframe thead th {\n",
              "        text-align: right;\n",
              "    }\n",
              "</style>\n",
              "<table border=\"1\" class=\"dataframe\">\n",
              "  <thead>\n",
              "    <tr style=\"text-align: right;\">\n",
              "      <th></th>\n",
              "      <th>MARGIN</th>\n",
              "    </tr>\n",
              "    <tr>\n",
              "      <th>YEAR</th>\n",
              "      <th></th>\n",
              "    </tr>\n",
              "  </thead>\n",
              "  <tbody>\n",
              "    <tr>\n",
              "      <th>1996</th>\n",
              "      <td>43.299941</td>\n",
              "    </tr>\n",
              "    <tr>\n",
              "      <th>1989</th>\n",
              "      <td>32.795086</td>\n",
              "    </tr>\n",
              "    <tr>\n",
              "      <th>2021</th>\n",
              "      <td>27.434913</td>\n",
              "    </tr>\n",
              "    <tr>\n",
              "      <th>1977</th>\n",
              "      <td>16.864513</td>\n",
              "    </tr>\n",
              "    <tr>\n",
              "      <th>1971</th>\n",
              "      <td>13.810651</td>\n",
              "    </tr>\n",
              "    <tr>\n",
              "      <th>1991</th>\n",
              "      <td>13.310592</td>\n",
              "    </tr>\n",
              "    <tr>\n",
              "      <th>2001</th>\n",
              "      <td>12.969224</td>\n",
              "    </tr>\n",
              "    <tr>\n",
              "      <th>2011</th>\n",
              "      <td>10.753212</td>\n",
              "    </tr>\n",
              "    <tr>\n",
              "      <th>1980</th>\n",
              "      <td>9.173702</td>\n",
              "    </tr>\n",
              "    <tr>\n",
              "      <th>1967</th>\n",
              "      <td>8.977526</td>\n",
              "    </tr>\n",
              "    <tr>\n",
              "      <th>1984</th>\n",
              "      <td>7.165236</td>\n",
              "    </tr>\n",
              "    <tr>\n",
              "      <th>2006</th>\n",
              "      <td>1.528685</td>\n",
              "    </tr>\n",
              "    <tr>\n",
              "      <th>2016</th>\n",
              "      <td>0.275067</td>\n",
              "    </tr>\n",
              "  </tbody>\n",
              "</table>\n",
              "</div><br><label><b>dtype:</b> float64</label>"
            ]
          },
          "metadata": {},
          "execution_count": 13
        }
      ],
      "source": [
        "ac_df = pd.read_csv(f\"{ST_NAME}_{AC_NAME}.csv\")\n",
        "winners = ac_df.loc[ac_df.groupby('YEAR')['VOTES'].idxmax()].copy()\n",
        "runner_ups = ac_df.drop(winners.index)\n",
        "runner_ups = ac_df.loc[runner_ups.groupby('YEAR')['VOTES'].idxmax()]\n",
        "total_votes =  ac_df.groupby('YEAR')['VOTES'].sum().values\n",
        "winners[\"VOTE_SHARE\"] = 100 * ac_df.loc[ac_df.groupby('YEAR')['VOTES'].idxmax()][\"VOTES\"].values / total_votes\n",
        "runner_ups[\"VOTE_SHARE\"] = 100 * ac_df.loc[runner_ups.groupby('YEAR')['VOTES'].idxmax()][\"VOTES\"].values / total_votes\n",
        "winners[\"MARGIN\"] = winners[\"VOTE_SHARE\"].values - runner_ups[\"VOTE_SHARE\"].values\n",
        "print(\"List of years sorted in decreasing order of margin with runner up:\")\n",
        "winners.groupby(\"YEAR\")[\"MARGIN\"].sum().sort_values(ascending=False)"
      ]
    },
    {
      "cell_type": "markdown",
      "metadata": {
        "id": "nqZO67-HT0cT"
      },
      "source": [
        "### Q6 For the  given AC_NAME, What is the largest difference in votes between the first and the last candidate? [integer]"
      ]
    },
    {
      "cell_type": "code",
      "execution_count": 14,
      "metadata": {
        "id": "mjkRsfh9UHhz",
        "colab": {
          "base_uri": "https://localhost:8080/"
        },
        "outputId": "0d2a8ddb-5fd0-40ff-875c-ea75fa848e3f"
      },
      "outputs": [
        {
          "output_type": "execute_result",
          "data": {
            "text/plain": [
              "105227.0"
            ]
          },
          "metadata": {},
          "execution_count": 14
        }
      ],
      "source": [
        "ac_df = pd.read_csv(f\"{ST_NAME}_{AC_NAME}.csv\")\n",
        "df_sorted = ac_df.sort_values(by=['YEAR', 'VOTES'], ascending=[True, False])\n",
        "grouped = df_sorted.groupby('YEAR')\n",
        "def vote_difference(group):\n",
        "    return group.iloc[0]['VOTES'] - group.iloc[-1]['VOTES']\n",
        "\n",
        "differences = grouped.apply(vote_difference)\n",
        "differences.max()"
      ]
    },
    {
      "cell_type": "markdown",
      "metadata": {
        "id": "xzL-JXQLT0jg"
      },
      "source": [
        "### Q7 For the  given AC_NAME,  In which year was the difference between the first and last candidates votes the biggest? [string]\n",
        "- If two or more years have the same difference in votes, then choose the latest year."
      ]
    },
    {
      "cell_type": "code",
      "execution_count": 15,
      "metadata": {
        "id": "RtDzDUQpUH6w",
        "colab": {
          "base_uri": "https://localhost:8080/",
          "height": 540
        },
        "outputId": "990aa3e0-864d-488f-c8a2-72f0f114261d"
      },
      "outputs": [
        {
          "output_type": "stream",
          "name": "stdout",
          "text": [
            "List of years sorted in decreasing order of difference between first and last candidate:\n"
          ]
        },
        {
          "output_type": "execute_result",
          "data": {
            "text/plain": [
              "YEAR\n",
              "2021    105227.0\n",
              "1996     90557.0\n",
              "2011     84564.0\n",
              "2006     81609.0\n",
              "2016     79928.0\n",
              "2001     69386.0\n",
              "1989     65640.0\n",
              "1991     62715.0\n",
              "1984     53242.0\n",
              "1971     48131.0\n",
              "1967     39919.0\n",
              "1977     25749.0\n",
              "1980      8280.0\n",
              "dtype: float64"
            ],
            "text/html": [
              "<div>\n",
              "<style scoped>\n",
              "    .dataframe tbody tr th:only-of-type {\n",
              "        vertical-align: middle;\n",
              "    }\n",
              "\n",
              "    .dataframe tbody tr th {\n",
              "        vertical-align: top;\n",
              "    }\n",
              "\n",
              "    .dataframe thead th {\n",
              "        text-align: right;\n",
              "    }\n",
              "</style>\n",
              "<table border=\"1\" class=\"dataframe\">\n",
              "  <thead>\n",
              "    <tr style=\"text-align: right;\">\n",
              "      <th></th>\n",
              "      <th>0</th>\n",
              "    </tr>\n",
              "    <tr>\n",
              "      <th>YEAR</th>\n",
              "      <th></th>\n",
              "    </tr>\n",
              "  </thead>\n",
              "  <tbody>\n",
              "    <tr>\n",
              "      <th>2021</th>\n",
              "      <td>105227.0</td>\n",
              "    </tr>\n",
              "    <tr>\n",
              "      <th>1996</th>\n",
              "      <td>90557.0</td>\n",
              "    </tr>\n",
              "    <tr>\n",
              "      <th>2011</th>\n",
              "      <td>84564.0</td>\n",
              "    </tr>\n",
              "    <tr>\n",
              "      <th>2006</th>\n",
              "      <td>81609.0</td>\n",
              "    </tr>\n",
              "    <tr>\n",
              "      <th>2016</th>\n",
              "      <td>79928.0</td>\n",
              "    </tr>\n",
              "    <tr>\n",
              "      <th>2001</th>\n",
              "      <td>69386.0</td>\n",
              "    </tr>\n",
              "    <tr>\n",
              "      <th>1989</th>\n",
              "      <td>65640.0</td>\n",
              "    </tr>\n",
              "    <tr>\n",
              "      <th>1991</th>\n",
              "      <td>62715.0</td>\n",
              "    </tr>\n",
              "    <tr>\n",
              "      <th>1984</th>\n",
              "      <td>53242.0</td>\n",
              "    </tr>\n",
              "    <tr>\n",
              "      <th>1971</th>\n",
              "      <td>48131.0</td>\n",
              "    </tr>\n",
              "    <tr>\n",
              "      <th>1967</th>\n",
              "      <td>39919.0</td>\n",
              "    </tr>\n",
              "    <tr>\n",
              "      <th>1977</th>\n",
              "      <td>25749.0</td>\n",
              "    </tr>\n",
              "    <tr>\n",
              "      <th>1980</th>\n",
              "      <td>8280.0</td>\n",
              "    </tr>\n",
              "  </tbody>\n",
              "</table>\n",
              "</div><br><label><b>dtype:</b> float64</label>"
            ]
          },
          "metadata": {},
          "execution_count": 15
        }
      ],
      "source": [
        "ac_df = pd.read_csv(f\"{ST_NAME}_{AC_NAME}.csv\")\n",
        "df_sorted = ac_df.sort_values(by=['YEAR', 'VOTES'], ascending=[True, False])\n",
        "grouped = df_sorted.groupby('YEAR')\n",
        "def vote_difference(group):\n",
        "    return group.iloc[0]['VOTES'] - group.iloc[-1]['VOTES']\n",
        "\n",
        "differences = grouped.apply(vote_difference)\n",
        "print(\"List of years sorted in decreasing order of difference between first and last candidate:\")\n",
        "differences.sort_values(ascending=False)"
      ]
    },
    {
      "cell_type": "markdown",
      "metadata": {
        "id": "5Q_l0xjaT0qt"
      },
      "source": [
        "### Q8 For the given AC_NAME, how many candidates lost their deposit across the entire dataset?[integer]\n",
        "- If there is only one candidate in an election, the candidate does not lose their deposit.\n",
        "- Don't consider Nan/NA/blank votes\n",
        "- NOTA are not candidates"
      ]
    },
    {
      "cell_type": "code",
      "execution_count": 16,
      "metadata": {
        "id": "S4lfRri5UIdJ",
        "colab": {
          "base_uri": "https://localhost:8080/"
        },
        "outputId": "9e528208-b34c-4aa7-983b-f8be39e27272"
      },
      "outputs": [
        {
          "output_type": "execute_result",
          "data": {
            "text/plain": [
              "127"
            ]
          },
          "metadata": {},
          "execution_count": 16
        }
      ],
      "source": [
        "ac_df = pd.read_csv(f\"{ST_NAME}_{AC_NAME}.csv\")\n",
        "ac_df['DEPOSIT_THRESHOLD'] = 1/6 * ac_df.groupby('YEAR')['VOTES'].transform('sum')\n",
        "ac_df = ac_df[ac_df['CANDIDATE'] != \"NOTA\"]\n",
        "ac_df[ac_df['VOTES'] < ac_df['DEPOSIT_THRESHOLD']].shape[0]"
      ]
    },
    {
      "cell_type": "markdown",
      "metadata": {
        "id": "uS5gE8ncT0xI"
      },
      "source": [
        "### Q9 For the  given AC_NAME, In how many elections did the winner get more than 50 percent of the vote? [integer]"
      ]
    },
    {
      "cell_type": "code",
      "execution_count": 17,
      "metadata": {
        "id": "pDh4ZnaXUI8R",
        "colab": {
          "base_uri": "https://localhost:8080/"
        },
        "outputId": "e9b7139e-d920-4110-ed47-95b0998e7a8e"
      },
      "outputs": [
        {
          "output_type": "execute_result",
          "data": {
            "text/plain": [
              "10"
            ]
          },
          "metadata": {},
          "execution_count": 17
        }
      ],
      "source": [
        "ac_df = pd.read_csv(f\"{ST_NAME}_{AC_NAME}.csv\")\n",
        "winners = ac_df.loc[ac_df.groupby('YEAR')['VOTES'].idxmax()].copy()\n",
        "total_votes = ac_df.groupby('YEAR')['VOTES'].sum().values\n",
        "winners['VOTE_SHARE'] = 100 * winners[\"VOTES\"].values / total_votes\n",
        "winners[winners['VOTE_SHARE'] > 50].shape[0]"
      ]
    },
    {
      "cell_type": "markdown",
      "metadata": {
        "id": "yLTP0b94T03T"
      },
      "source": [
        "### Q10 What is the latest year in which the winner won more than 50 percent of the vote? [string]\n",
        "- If no one got more than 50 percent of the vote, then the answer is NA\n"
      ]
    },
    {
      "cell_type": "code",
      "execution_count": 18,
      "metadata": {
        "id": "YAHBd-GKUJms",
        "colab": {
          "base_uri": "https://localhost:8080/"
        },
        "outputId": "40ca86d8-74e9-4d78-ddd8-adf65f97ba44"
      },
      "outputs": [
        {
          "output_type": "execute_result",
          "data": {
            "text/plain": [
              "2021"
            ]
          },
          "metadata": {},
          "execution_count": 18
        }
      ],
      "source": [
        "ac_df = pd.read_csv(f\"{ST_NAME}_{AC_NAME}.csv\")\n",
        "winners = ac_df.loc[ac_df.groupby('YEAR')['VOTES'].idxmax()].copy()\n",
        "total_votes =  ac_df.groupby('YEAR')['VOTES'].sum().values\n",
        "winners[\"VOTE_SHARE\"] = 100 * ac_df.loc[ac_df.groupby('YEAR')['VOTES'].idxmax()][\"VOTES\"].values / total_votes\n",
        "winners_above_50 = winners[winners[\"VOTE_SHARE\"] > 50]\n",
        "winners_above_50[\"YEAR\"].max()"
      ]
    },
    {
      "cell_type": "markdown",
      "metadata": {
        "id": "kCN2IdZCT09H"
      },
      "source": [
        "### Q11 For the  given AC_NAME, Which party won the highest number of election in a given constituency? [string]\n",
        "- If two or more parties have the same number of highest wins, choose the party that is alphabetically first\n",
        "- If independent candidates won the highest number of elections then the answer is IND\n"
      ]
    },
    {
      "cell_type": "code",
      "execution_count": 19,
      "metadata": {
        "id": "8sJdS_omUKEM",
        "colab": {
          "base_uri": "https://localhost:8080/",
          "height": 258
        },
        "outputId": "c8f7546d-4e60-45fa-f352-5c6fdf07e682"
      },
      "outputs": [
        {
          "output_type": "stream",
          "name": "stdout",
          "text": [
            "Frequency of party winning the elections:\n"
          ]
        },
        {
          "output_type": "execute_result",
          "data": {
            "text/plain": [
              "PARTY\n",
              "DMK       8\n",
              "ADMK      2\n",
              "CPM       2\n",
              "CPI(M)    1\n",
              "Name: count, dtype: int64"
            ],
            "text/html": [
              "<div>\n",
              "<style scoped>\n",
              "    .dataframe tbody tr th:only-of-type {\n",
              "        vertical-align: middle;\n",
              "    }\n",
              "\n",
              "    .dataframe tbody tr th {\n",
              "        vertical-align: top;\n",
              "    }\n",
              "\n",
              "    .dataframe thead th {\n",
              "        text-align: right;\n",
              "    }\n",
              "</style>\n",
              "<table border=\"1\" class=\"dataframe\">\n",
              "  <thead>\n",
              "    <tr style=\"text-align: right;\">\n",
              "      <th></th>\n",
              "      <th>count</th>\n",
              "    </tr>\n",
              "    <tr>\n",
              "      <th>PARTY</th>\n",
              "      <th></th>\n",
              "    </tr>\n",
              "  </thead>\n",
              "  <tbody>\n",
              "    <tr>\n",
              "      <th>DMK</th>\n",
              "      <td>8</td>\n",
              "    </tr>\n",
              "    <tr>\n",
              "      <th>ADMK</th>\n",
              "      <td>2</td>\n",
              "    </tr>\n",
              "    <tr>\n",
              "      <th>CPM</th>\n",
              "      <td>2</td>\n",
              "    </tr>\n",
              "    <tr>\n",
              "      <th>CPI(M)</th>\n",
              "      <td>1</td>\n",
              "    </tr>\n",
              "  </tbody>\n",
              "</table>\n",
              "</div><br><label><b>dtype:</b> int64</label>"
            ]
          },
          "metadata": {},
          "execution_count": 19
        }
      ],
      "source": [
        "ac_df = pd.read_csv(f\"{ST_NAME}_{AC_NAME}.csv\")\n",
        "winners = ac_df.loc[ac_df.groupby('YEAR')['VOTES'].idxmax()].copy()\n",
        "print(\"Frequency of party winning the elections:\")\n",
        "winners[\"PARTY\"].value_counts().sort_values(ascending=False)"
      ]
    },
    {
      "cell_type": "markdown",
      "metadata": {
        "id": "U5FqAYh2T1DG"
      },
      "source": [
        "### Q12 For the  given AC_NAME, If the second and the third candidate in an election combined their vote, how many elections would they win? [integer]\n",
        "- Do not count elections where there are less than 3 candidates, count these as 0"
      ]
    },
    {
      "cell_type": "code",
      "execution_count": 20,
      "metadata": {
        "id": "_ta_ORB1UKgj",
        "colab": {
          "base_uri": "https://localhost:8080/"
        },
        "outputId": "5646876f-8bf9-4dcc-a17e-dcf89f1ecff7"
      },
      "outputs": [
        {
          "output_type": "execute_result",
          "data": {
            "text/plain": [
              "3"
            ]
          },
          "metadata": {},
          "execution_count": 20
        }
      ],
      "source": [
        "ac_df = pd.read_csv(f\"{ST_NAME}_{AC_NAME}.csv\")\n",
        "year_counts = ac_df[\"YEAR\"].value_counts()\n",
        "filtered_years = year_counts[year_counts >= 3].index\n",
        "filtered_df = ac_df[ac_df['YEAR'].isin(filtered_years)].sort_values(by=['YEAR', 'VOTES'], ascending=[True, False])\n",
        "second_third_candidates = filtered_df.groupby('YEAR').head(3).groupby('YEAR').tail(2)\n",
        "second_third_combined = second_third_candidates.groupby('YEAR')[\"VOTES\"].sum()\n",
        "winner_count = filtered_df.groupby('YEAR').head(1).groupby('YEAR')[\"VOTES\"].sum()\n",
        "result = (winner_count - second_third_combined) < 0\n",
        "result.sum()"
      ]
    },
    {
      "cell_type": "markdown",
      "metadata": {
        "id": "yeByHqcgT1I-"
      },
      "source": [
        "### Q13 For the  given AC_NAME, What is the average vote share of the winners across all elections? Give your answer to 2 decimal places? [float]"
      ]
    },
    {
      "cell_type": "code",
      "execution_count": 21,
      "metadata": {
        "colab": {
          "base_uri": "https://localhost:8080/"
        },
        "id": "lATAWJvcULJE",
        "outputId": "227fbdf3-07cd-41e6-e8d9-ed2a639d92ca"
      },
      "outputs": [
        {
          "output_type": "execute_result",
          "data": {
            "text/plain": [
              "52.35128223536607"
            ]
          },
          "metadata": {},
          "execution_count": 21
        }
      ],
      "source": [
        "ac_df = pd.read_csv(f\"{ST_NAME}_{AC_NAME}.csv\")\n",
        "winners = ac_df.loc[ac_df.groupby('YEAR')['VOTES'].idxmax()].copy()\n",
        "total_votes = ac_df.groupby('YEAR')['VOTES'].sum()\n",
        "winners['VOTE_SHARE'] = (100 * winners['VOTES'].values/total_votes).values\n",
        "winners['VOTE_SHARE'].values.mean()"
      ]
    },
    {
      "cell_type": "markdown",
      "metadata": {
        "id": "Z-vhVfWVT1PD"
      },
      "source": [
        "### Q14 For the given AC_NAME, What percentage of elections did female candidates win, when there was at least one female candidate in that election? Give your answer to 2 decimal places. [float]"
      ]
    },
    {
      "cell_type": "code",
      "execution_count": 22,
      "metadata": {
        "id": "fso2K0FfULnW",
        "colab": {
          "base_uri": "https://localhost:8080/"
        },
        "outputId": "f5136e37-1e0a-48a7-8340-5102b3c49b15"
      },
      "outputs": [
        {
          "output_type": "execute_result",
          "data": {
            "text/plain": [
              "11.11111111111111"
            ]
          },
          "metadata": {},
          "execution_count": 22
        }
      ],
      "source": [
        "ac_df = pd.read_csv(f\"{ST_NAME}_{AC_NAME}.csv\")\n",
        "elections_with_female = ac_df.groupby('YEAR').filter(lambda x: (x['SEX'] == 'F').any())\n",
        "winners = elections_with_female.loc[elections_with_female.groupby('YEAR')['VOTES'].idxmax()]\n",
        "total_elections_with_female = winners['YEAR'].nunique()\n",
        "female_wins = winners[winners['SEX'] == 'F']['YEAR'].nunique()\n",
        "if total_elections_with_female == 0:\n",
        "    percentage_female_wins = 0\n",
        "else:\n",
        "  percentage_female_wins = (female_wins / total_elections_with_female) * 100\n",
        "percentage_female_wins"
      ]
    },
    {
      "cell_type": "markdown",
      "metadata": {
        "id": "qDKCK6uJT1UO"
      },
      "source": [
        "### Q15 For a given constituency, how many constituencies within the same state are less than 20 kms. Use Nominatim for this question."
      ]
    },
    {
      "cell_type": "code",
      "execution_count": null,
      "metadata": {
        "id": "N41qavJAUMGg",
        "colab": {
          "base_uri": "https://localhost:8080/"
        },
        "outputId": "8489b212-a188-4b94-f075-8739da0f8779"
      },
      "outputs": [
        {
          "output_type": "stream",
          "name": "stdout",
          "text": [
            "Getting latitude and longitude for all constituencies..\n",
            "Estimated Time:862.4 seconds\n"
          ]
        },
        {
          "output_type": "stream",
          "name": "stderr",
          "text": [
            "WARNING:urllib3.connectionpool:Retrying (Retry(total=1, connect=None, read=None, redirect=None, status=None)) after connection broken by 'ReadTimeoutError(\"HTTPSConnectionPool(host='nominatim.openstreetmap.org', port=443): Read timed out. (read timeout=1)\")': /search?q=tiruttani%2C+tamil+nadu%2C+India&format=json&limit=1\n",
            "WARNING:urllib3.connectionpool:Retrying (Retry(total=0, connect=None, read=None, redirect=None, status=None)) after connection broken by 'ReadTimeoutError(\"HTTPSConnectionPool(host='nominatim.openstreetmap.org', port=443): Read timed out. (read timeout=1)\")': /search?q=tiruttani%2C+tamil+nadu%2C+India&format=json&limit=1\n",
            "WARNING:urllib3.connectionpool:Retrying (Retry(total=1, connect=None, read=None, redirect=None, status=None)) after connection broken by 'ReadTimeoutError(\"HTTPSConnectionPool(host='nominatim.openstreetmap.org', port=443): Read timed out. (read timeout=1)\")': /search?q=arakkonam%2C+tamil+nadu%2C+India&format=json&limit=1\n",
            "WARNING:urllib3.connectionpool:Retrying (Retry(total=1, connect=None, read=None, redirect=None, status=None)) after connection broken by 'ReadTimeoutError(\"HTTPSConnectionPool(host='nominatim.openstreetmap.org', port=443): Read timed out. (read timeout=1)\")': /search?q=perundurai%2C+tamil+nadu%2C+India&format=json&limit=1\n"
          ]
        }
      ],
      "source": [
        "state_df = pd.read_csv(f\"{ST_NAME}.csv\")\n",
        "def get_coordinates(state:str, constituency:str):\n",
        "    try:\n",
        "        geolocator = Nominatim(user_agent=\"Mozilla/5.0\")\n",
        "        location = geolocator.geocode(f\"{constituency.lower()}, {state.lower()}, India\")\n",
        "        # print(location)\n",
        "        if location:\n",
        "            return location.latitude, location.longitude\n",
        "        else:\n",
        "            return None, None\n",
        "    except:\n",
        "        return None, None\n",
        "\n",
        "def calculate_distance(given_coords, lat, lon):\n",
        "    try:\n",
        "        if lat and lon:\n",
        "            return geodesic(given_coords, (lat, lon)).kilometers\n",
        "        else:\n",
        "            return None\n",
        "    except:\n",
        "        return None\n",
        "constituency_list = {place:() for place in state_df[\"AC\"].unique()}\n",
        "estimated_time = 2.8 * len(constituency_list.keys())\n",
        "print(\"Getting latitude and longitude for all constituencies..\")\n",
        "print(f\"Estimated Time:{estimated_time} seconds\")\n",
        "\n",
        "for key in constituency_list.keys():\n",
        "    sleep(2)\n",
        "    constituency_list[key] = get_coordinates(ST_NAME, key)\n",
        "print(\"Done\")\n",
        "temp_df = state_df.copy()\n",
        "temp_df['LAT'], temp_df['LON'] = zip(*state_df.apply(lambda row: constituency_list[row[\"AC\"]], axis=1))\n",
        "given_coords = temp_df.loc[state_df['AC'] == AC_NAME, ['LAT', 'LON']].values[0]\n",
        "temp_df['DISTANCE'] = temp_df.apply(lambda row: calculate_distance(given_coords, row['LAT'], row['LON']), axis=1)\n",
        "nearby_constituencies = temp_df[(temp_df['DISTANCE'] < 20) & (temp_df['AC'] != AC_NAME)]\n",
        "print(\"Count of constituencies within 20 kms:\")\n",
        "nearby_constituencies['AC'].unique().shape"
      ]
    },
    {
      "cell_type": "markdown",
      "metadata": {
        "id": "JJXgeE8ST1Z9"
      },
      "source": [
        "### Q16 For a given constituency, find constituencies within the same state that are less than 100 kms. How many of them have winners from the same party as the given constituency? Use Nominatim for this question."
      ]
    },
    {
      "cell_type": "code",
      "execution_count": null,
      "metadata": {
        "id": "Ba1IMmJhUM0F"
      },
      "outputs": [],
      "source": [
        "state_df = pd.read_csv(f\"{ST_NAME}.csv\")\n",
        "ac_df = pd.read_csv(f\"{ST_NAME}_{AC_NAME}.csv\")\n",
        "def get_coordinates(state:str, constituency:str):\n",
        "    try:\n",
        "        geolocator = Nominatim(user_agent=\"Mozilla/5.0\")\n",
        "        location = geolocator.geocode(f\"{constituency.lower()}, {state.lower()}, India\")\n",
        "        # print(location)\n",
        "        if location:\n",
        "            return location.latitude, location.longitude\n",
        "        else:\n",
        "            return None, None\n",
        "    except:\n",
        "        return None, None\n",
        "\n",
        "def calculate_distance(given_coords, lat, lon):\n",
        "    try:\n",
        "        if lat and lon:\n",
        "            return geodesic(given_coords, (lat, lon)).kilometers\n",
        "        else:\n",
        "            return None\n",
        "    except:\n",
        "        return None\n",
        "\n",
        "constituency_list = {place:() for place in state_df[\"AC\"].unique()}\n",
        "estimated_time = 2.8 * len(constituency_list.keys())\n",
        "print(\"Getting latitude and longitude for all constituencies..\")\n",
        "print(f\"Estimated Time:{estimated_time} seconds\")\n",
        "\n",
        "for key in constituency_list.keys():\n",
        "    sleep(2)\n",
        "    constituency_list[key] = get_coordinates(ST_NAME, key)\n",
        "\n",
        "print(\"Done\")\n",
        "state_df['LAT'], state_df['LON'] = zip(*state_df.apply(lambda row: constituency_list[row[\"AC\"]], axis=1))\n",
        "given_coords = state_df.loc[state_df['AC'] == AC_NAME, ['LAT', 'LON']].values[0]\n",
        "state_df['DISTANCE'] = state_df.apply(lambda row: calculate_distance(given_coords, row['LAT'], row['LON']), axis=1)\n",
        "nearby_constituencies = state_df[(state_df['DISTANCE'] < 100) & (state_df['AC'] != AC_NAME)]\n",
        "\n",
        "given_constituency = state_df[(state_df[\"AC\"] == AC_NAME)].copy()\n",
        "winners = given_constituency.loc[given_constituency.groupby('YEAR')['VOTES'].idxmax()]\n",
        "nearby_constituencies = nearby_constituencies['AC'].unique()\n",
        "def get_winning_party_for_ac_in_year(ac_name, year):\n",
        "    _ac = state_df[(state_df[\"AC\"] == ac_name) & (state_df[\"YEAR\"] == year)]\n",
        "    if _ac.empty:\n",
        "        return None\n",
        "    winners = _ac.loc[_ac['VOTES'].idxmax()]\n",
        "    return winners['PARTY']\n",
        "\n",
        "def count_neighbours_with_same_winning_party(year, party):\n",
        "  count = 0\n",
        "  for constituencies in nearby_constituencies:\n",
        "    winning_party = get_winning_party_for_ac_in_year(constituencies, year)\n",
        "    if winning_party == party:\n",
        "      count += 1\n",
        "  return count\n",
        "\n",
        "print(\"Count of neighbours with same winning party in latest year\")\n",
        "latest_year = ac_df['YEAR'].max()\n",
        "winning_party = winners[winners['YEAR'] == latest_year]['PARTY'].values[0]\n",
        "count_neighbours_with_same_winning_party(latest_year, winning_party)"
      ]
    },
    {
      "cell_type": "markdown",
      "metadata": {
        "id": "jigZEvAdT1fY"
      },
      "source": [
        "### Q17 Find the Pearson correlation coefficient between the votes won by female candidates and male candidates. Only include constituencies and election years that had at least 1 female candidate. Each row in the correlation data table should represent an election. Round off the answer to 4 decimal points[float]"
      ]
    },
    {
      "cell_type": "code",
      "execution_count": 7,
      "metadata": {
        "id": "bNVqZ3OpUNXJ",
        "colab": {
          "base_uri": "https://localhost:8080/"
        },
        "outputId": "30161193-63bc-46d2-e5b6-3921635de5d7"
      },
      "outputs": [
        {
          "output_type": "execute_result",
          "data": {
            "text/plain": [
              "0.909037761008559"
            ]
          },
          "metadata": {},
          "execution_count": 7
        }
      ],
      "source": [
        "state_df = pd.read_csv(f\"{ST_NAME}.csv\")\n",
        "df_filtered = state_df.groupby(['YEAR', 'AC']).filter(lambda x: (x['SEX'] == 'F').any())\n",
        "df_female = df_filtered[df_filtered['SEX'] == 'F'][['YEAR', 'VOTES']].rename(columns={'VOTES': 'FEMALE_VOTES'})\n",
        "female_votes_by_year = df_female.groupby('YEAR')['FEMALE_VOTES'].sum()\n",
        "df_male = df_filtered[df_filtered['SEX'] == 'M'][['YEAR', 'VOTES']].rename(columns={'VOTES': 'MALE_VOTES'})\n",
        "male_votes_by_year = df_male.groupby('YEAR')[\"MALE_VOTES\"].sum()\n",
        "male_votes_by_year.corr(female_votes_by_year)"
      ]
    },
    {
      "cell_type": "markdown",
      "metadata": {
        "id": "snJlrfMXT1lb"
      },
      "source": [
        "### Q18 For a given state, identify the election year which has the most outliers on the basis of candidate votes. Use the interquartile range (IQR) rule to detect outliers. [integer]"
      ]
    },
    {
      "cell_type": "code",
      "execution_count": 8,
      "metadata": {
        "id": "FixGorWPTdsu",
        "colab": {
          "base_uri": "https://localhost:8080/",
          "height": 383
        },
        "outputId": "3cb69528-56e9-486a-c5dd-54092df5f033"
      },
      "outputs": [
        {
          "output_type": "stream",
          "name": "stdout",
          "text": [
            "List of years sorted in descending order of number of outliers:\n"
          ]
        },
        {
          "output_type": "execute_result",
          "data": {
            "text/plain": [
              "YEAR\n",
              "1996    1048\n",
              "2021     846\n",
              "2016     726\n",
              "1991     618\n",
              "2011     528\n",
              "2006     495\n",
              "1989     357\n",
              "2001      74\n",
              "Name: count, dtype: int64"
            ],
            "text/html": [
              "<div>\n",
              "<style scoped>\n",
              "    .dataframe tbody tr th:only-of-type {\n",
              "        vertical-align: middle;\n",
              "    }\n",
              "\n",
              "    .dataframe tbody tr th {\n",
              "        vertical-align: top;\n",
              "    }\n",
              "\n",
              "    .dataframe thead th {\n",
              "        text-align: right;\n",
              "    }\n",
              "</style>\n",
              "<table border=\"1\" class=\"dataframe\">\n",
              "  <thead>\n",
              "    <tr style=\"text-align: right;\">\n",
              "      <th></th>\n",
              "      <th>count</th>\n",
              "    </tr>\n",
              "    <tr>\n",
              "      <th>YEAR</th>\n",
              "      <th></th>\n",
              "    </tr>\n",
              "  </thead>\n",
              "  <tbody>\n",
              "    <tr>\n",
              "      <th>1996</th>\n",
              "      <td>1048</td>\n",
              "    </tr>\n",
              "    <tr>\n",
              "      <th>2021</th>\n",
              "      <td>846</td>\n",
              "    </tr>\n",
              "    <tr>\n",
              "      <th>2016</th>\n",
              "      <td>726</td>\n",
              "    </tr>\n",
              "    <tr>\n",
              "      <th>1991</th>\n",
              "      <td>618</td>\n",
              "    </tr>\n",
              "    <tr>\n",
              "      <th>2011</th>\n",
              "      <td>528</td>\n",
              "    </tr>\n",
              "    <tr>\n",
              "      <th>2006</th>\n",
              "      <td>495</td>\n",
              "    </tr>\n",
              "    <tr>\n",
              "      <th>1989</th>\n",
              "      <td>357</td>\n",
              "    </tr>\n",
              "    <tr>\n",
              "      <th>2001</th>\n",
              "      <td>74</td>\n",
              "    </tr>\n",
              "  </tbody>\n",
              "</table>\n",
              "</div><br><label><b>dtype:</b> int64</label>"
            ]
          },
          "metadata": {},
          "execution_count": 8
        }
      ],
      "source": [
        "state_df = pd.read_csv(f\"{ST_NAME}.csv\")\n",
        "grouped = state_df.groupby('YEAR')\n",
        "Q1 = grouped['VOTES'].transform(lambda x: x.quantile(0.25))\n",
        "Q3 = grouped['VOTES'].transform(lambda x: x.quantile(0.75))\n",
        "IQR = Q3 - Q1\n",
        "lb = Q1 - 1.5 * IQR\n",
        "ub = Q3 + 1.5 * IQR\n",
        "condition = (state_df['VOTES'] < lb) | (state_df['VOTES'] > ub)\n",
        "print(\"List of years sorted in descending order of number of outliers:\")\n",
        "state_df[condition][\"YEAR\"].value_counts()"
      ]
    },
    {
      "cell_type": "markdown",
      "metadata": {
        "id": "VWdvmfjTZDPD"
      },
      "source": [
        "## Essay Assignment\n",
        "- These are the basic graphs, you can do your own customisations as per your choice\n",
        "- Since its peer graded, its good to have some variety"
      ]
    },
    {
      "cell_type": "markdown",
      "metadata": {
        "id": "gQDea51pZZFb"
      },
      "source": [
        "### 1. For the given state, Use Box-Whiskers plot / violin plot to display the outliers in candidate votes for each election year. Use a different colour to clearly highlight the outliers. Do not consider candidates with NaN/null/None/blank votes. 0 votes is a valid vote count. NOTA is a valid candidate."
      ]
    },
    {
      "cell_type": "code",
      "execution_count": 9,
      "metadata": {
        "colab": {
          "base_uri": "https://localhost:8080/",
          "height": 657
        },
        "id": "xG_pQdHHY7nP",
        "outputId": "7783ff36-1ce7-46d0-cc4e-06632d1af5fe"
      },
      "outputs": [
        {
          "output_type": "stream",
          "name": "stderr",
          "text": [
            "<ipython-input-9-d740b6871b9c>:4: FutureWarning: \n",
            "\n",
            "Passing `palette` without assigning `hue` is deprecated and will be removed in v0.14.0. Assign the `x` variable to `hue` and set `legend=False` for the same effect.\n",
            "\n",
            "  sns.violinplot(x='YEAR', y='VOTES', data=state_df, palette='Set3')\n"
          ]
        },
        {
          "output_type": "display_data",
          "data": {
            "text/plain": [
              "<Figure size 800x600 with 1 Axes>"
            ],
            "image/png": "[encoded data removed]"
          },
          "metadata": {}
        }
      ],
      "source": [
        "state_df = pd.read_csv(f\"{ST_NAME}.csv\")\n",
        "plt.figure(figsize=(8, 6))\n",
        "sns.set_theme(style=\"whitegrid\")\n",
        "sns.violinplot(x='YEAR', y='VOTES', data=state_df, palette='Set3')\n",
        "plt.show()"
      ]
    },
    {
      "cell_type": "markdown",
      "metadata": {
        "id": "4CRYhlFcaN2B"
      },
      "source": [
        "### 2. For the given state, Use a scatter plot to show the correlation between the length of a candidate name (string length) and the votes gathered by the candidate.\n",
        "\n"
      ]
    },
    {
      "cell_type": "code",
      "execution_count": null,
      "metadata": {
        "colab": {
          "base_uri": "https://localhost:8080/",
          "height": 550
        },
        "id": "2aPeaNocaTmE",
        "outputId": "f17d0769-0f2d-4a7f-8df0-b2a8c090f5e8"
      },
      "outputs": [
        {
          "data": {
            "image/png": "[encoded data removed]",
            "text/plain": [
              "<Figure size 800x600 with 1 Axes>"
            ]
          },
          "metadata": {},
          "output_type": "display_data"
        }
      ],
      "source": [
        "state_df = pd.read_csv(f\"{ST_NAME}.csv\")\n",
        "state_df['NAME_LENGTH'] = state_df['CANDIDATE'].apply(len)\n",
        "plt.figure(figsize=(8, 6))\n",
        "sns.scatterplot(x='NAME_LENGTH', y='VOTES', data=state_df)\n",
        "plt.show()"
      ]
    },
    {
      "source": [
        "state_df = pd.read_csv(f\"{ST_NAME}.csv\")\n",
        "state_df['NAME_LENGTH'] = state_df['CANDIDATE'].apply(len)\n",
        "\n",
        "plt.figure(figsize=(8, 6))\n",
        "\n",
        "# Scatter plot\n",
        "sns.scatterplot(x='NAME_LENGTH', y='VOTES', data=state_df, color='blue', alpha=0.7, label='Votes')\n",
        "\n",
        "# Line plot\n",
        "sns.lineplot(x='NAME_LENGTH', y='VOTES', data=state_df, color='red', ci=None, label='Trend')\n",
        "\n",
        "plt.xlabel('Candidate Name Length')\n",
        "plt.ylabel('Votes Gathered')\n",
        "plt.title('Correlation between Candidate Name Length and Votes')\n",
        "plt.legend()\n",
        "plt.show()"
      ],
      "cell_type": "code",
      "metadata": {
        "colab": {
          "base_uri": "https://localhost:8080/",
          "height": 660
        },
        "id": "KGXoxBWfjkgE",
        "outputId": "9f19ff2a-fe5b-4832-fb65-be609e2b7ee9"
      },
      "execution_count": 13,
      "outputs": [
        {
          "output_type": "stream",
          "name": "stderr",
          "text": [
            "<ipython-input-13-2b6c3ba17b7a>:10: FutureWarning: \n",
            "\n",
            "The `ci` parameter is deprecated. Use `errorbar=None` for the same effect.\n",
            "\n",
            "  sns.lineplot(x='NAME_LENGTH', y='VOTES', data=state_df, color='red', ci=None, label='Trend')\n"
          ]
        },
        {
          "output_type": "display_data",
          "data": {
            "text/plain": [
              "<Figure size 800x600 with 1 Axes>"
            ],
            "image/png": "[encoded data removed]"
          },
          "metadata": {}
        }
      ]
    },
    {
      "cell_type": "markdown",
      "source": [
        "dataset link =\"https://22f3001919.github.io/tds_project_1/\""
      ],
      "metadata": {
        "id": "I5QtiUfdj3Qf"
      }
    }
  ],
  "metadata": {
    "colab": {
      "provenance": []
    },
    "kernelspec": {
      "display_name": "Python 3 (ipykernel)",
      "language": "python",
      "name": "python3"
    },
    "language_info": {
      "codemirror_mode": {
        "name": "ipython",
        "version": 3
      },
      "file_extension": ".py",
      "mimetype": "text/x-python",
      "name": "python",
      "nbconvert_exporter": "python",
      "pygments_lexer": "ipython3",
      "version": "3.11.7"
    }
  },
  "nbformat": 4,
  "nbformat_minor": 0
}