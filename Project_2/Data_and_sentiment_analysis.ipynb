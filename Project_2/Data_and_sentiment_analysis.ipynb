{
  "nbformat": 4,
  "nbformat_minor": 0,
  "metadata": {
    "colab": {
      "provenance": []
    },
    "kernelspec": {
      "name": "python3",
      "display_name": "Python 3"
    },
    "language_info": {
      "name": "python"
    }
  },
  "cells": [
    {
      "cell_type": "markdown",
      "source": [
        "#### Please upload your datasets before running the cells"
      ],
      "metadata": {
        "id": "NVlbl-UKvVnY"
      }
    },
    {
      "cell_type": "markdown",
      "source": [
        "### Q1: How many books do not have an original title [books.csv] ? (N)"
      ],
      "metadata": {
        "id": "90z8J0-e5oeC"
      }
    },
    {
      "cell_type": "code",
      "execution_count": 2,
      "metadata": {
        "id": "NhVq2HOk4pG8",
        "colab": {
          "base_uri": "https://localhost:8080/"
        },
        "outputId": "dfd8f171-cbdc-4860-bc75-2812b024a26d"
      },
      "outputs": [
        {
          "output_type": "execute_result",
          "data": {
            "text/plain": [
              "110"
            ]
          },
          "metadata": {},
          "execution_count": 2
        }
      ],
      "source": [
        "import pandas as pd\n",
        "import numpy as np\n",
        "books = pd.read_csv(\"books.csv\")\n",
        "books[\"original_title\"].isna().sum()"
      ]
    },
    {
      "cell_type": "markdown",
      "source": [
        "### Q2: How many unique books are present in the dataset ? Evaluate based on the 'book_id'? [books.csv] (N)"
      ],
      "metadata": {
        "id": "-0FAu_LpZAyH"
      }
    },
    {
      "cell_type": "code",
      "source": [
        "import pandas as pd\n",
        "books = pd.read_csv(\"books.csv\")\n",
        "books[\"book_id\"].nunique()"
      ],
      "metadata": {
        "colab": {
          "base_uri": "https://localhost:8080/"
        },
        "id": "hYCYTLSSbX4z",
        "outputId": "e7a8db41-94fb-4744-af13-18b665795ece"
      },
      "execution_count": 3,
      "outputs": [
        {
          "output_type": "execute_result",
          "data": {
            "text/plain": [
              "1813"
            ]
          },
          "metadata": {},
          "execution_count": 3
        }
      ]
    },
    {
      "cell_type": "markdown",
      "source": [
        "### Q3: How many unique users are present in the dataset [ratings.csv]? (N)"
      ],
      "metadata": {
        "id": "ESSvI7WbZIWo"
      }
    },
    {
      "cell_type": "code",
      "source": [
        "import pandas as pd\n",
        "ratings = pd.read_csv(\"ratings.csv\")\n",
        "ratings[\"user_id\"].nunique()"
      ],
      "metadata": {
        "colab": {
          "base_uri": "https://localhost:8080/"
        },
        "id": "hm0CMNp9blq5",
        "outputId": "e1cd182c-80b0-4bf7-a8bf-cf8185d26415"
      },
      "execution_count": 4,
      "outputs": [
        {
          "output_type": "execute_result",
          "data": {
            "text/plain": [
              "40308"
            ]
          },
          "metadata": {},
          "execution_count": 4
        }
      ]
    },
    {
      "cell_type": "markdown",
      "source": [
        "### Q4: Which book (title) has the maximum number of ratings based on (work_ratings_count) [books.csv] ? (S)"
      ],
      "metadata": {
        "id": "DxdueN2KZN7Y"
      }
    },
    {
      "cell_type": "code",
      "source": [
        "import pandas as pd\n",
        "books = pd.read_csv(\"books.csv\")\n",
        "books.loc[books[\"work_ratings_count\"].idxmax()][\"title\"]"
      ],
      "metadata": {
        "colab": {
          "base_uri": "https://localhost:8080/",
          "height": 35
        },
        "id": "R_CUmIVOcBxl",
        "outputId": "97acbc5d-c6c8-4817-ef1b-c7c948762f9b"
      },
      "execution_count": 5,
      "outputs": [
        {
          "output_type": "execute_result",
          "data": {
            "text/plain": [
              "'To Kill a Mockingbird'"
            ],
            "application/vnd.google.colaboratory.intrinsic+json": {
              "type": "string"
            }
          },
          "metadata": {},
          "execution_count": 5
        }
      ]
    },
    {
      "cell_type": "markdown",
      "source": [
        "### Q5: Which (tag_id) is the most frequently used ie. mapped with the highest number of books [book_tags.csv]? (N)"
      ],
      "metadata": {
        "id": "Fe3aR44NZVFR"
      }
    },
    {
      "cell_type": "code",
      "source": [
        "import pandas as pd\n",
        "book_tags = pd.read_csv(\"book_tags.csv\")\n",
        "value_counts = book_tags.groupby(\"tag_id\")[\"goodreads_book_id\"].nunique()\n",
        "value_counts.idxmax()"
      ],
      "metadata": {
        "colab": {
          "base_uri": "https://localhost:8080/"
        },
        "id": "uFSuNYKYc5nP",
        "outputId": "964dcef5-a40c-442b-974d-3729f3daf6ff"
      },
      "execution_count": 18,
      "outputs": [
        {
          "output_type": "execute_result",
          "data": {
            "text/plain": [
              "25438"
            ]
          },
          "metadata": {},
          "execution_count": 18
        }
      ]
    },
    {
      "cell_type": "markdown",
      "source": [
        "### Q6: Which book (title) has the most number of counts of tags given by the user ie. the book with maximum user records including all tags [book_tags.csv,books.csv] ? (S)"
      ],
      "metadata": {
        "id": "58hHMyD3ZZi6"
      }
    },
    {
      "cell_type": "code",
      "source": [
        "import pandas as pd\n",
        "books = pd.read_csv(\"books.csv\")\n",
        "book_tags = pd.read_csv(\"book_tags.csv\")\n",
        "value_counts = book_tags.groupby(\"goodreads_book_id\")[\"count\"].sum()\n",
        "books[books[\"goodreads_book_id\"] == value_counts.idxmax()][\"title\"].values[0]"
      ],
      "metadata": {
        "colab": {
          "base_uri": "https://localhost:8080/",
          "height": 35
        },
        "id": "oUoHDmyTefT4",
        "outputId": "176bb7c8-2b21-4432-91ae-64784754c065"
      },
      "execution_count": 7,
      "outputs": [
        {
          "output_type": "execute_result",
          "data": {
            "text/plain": [
              "'The Girl with the Dragon Tattoo (Millennium, #1)'"
            ],
            "application/vnd.google.colaboratory.intrinsic+json": {
              "type": "string"
            }
          },
          "metadata": {},
          "execution_count": 7
        }
      ]
    },
    {
      "cell_type": "markdown",
      "source": [
        "### Q7: Which book (goodreads_book_id) is marked as to-read by most users [books.csv,toread.csv] ? (N)"
      ],
      "metadata": {
        "id": "RJYmWjD7ZgDV"
      }
    },
    {
      "cell_type": "code",
      "source": [
        "import pandas as pd\n",
        "books = pd.read_csv(\"books.csv\")\n",
        "to_read = pd.read_csv(\"toread.csv\")\n",
        "value_counts = to_read.groupby(\"book_id\")[\"user_id\"].nunique()\n",
        "books[books[\"book_id\"] == value_counts.idxmax()][\"goodreads_book_id\"].values[0]"
      ],
      "metadata": {
        "colab": {
          "base_uri": "https://localhost:8080/"
        },
        "id": "Fz1FrH_3fSuh",
        "outputId": "58513080-d36b-4cd4-c9bb-f01ff8c4f095"
      },
      "execution_count": 8,
      "outputs": [
        {
          "output_type": "execute_result",
          "data": {
            "text/plain": [
              "19063"
            ]
          },
          "metadata": {},
          "execution_count": 8
        }
      ]
    },
    {
      "cell_type": "markdown",
      "source": [
        "### Q8: Which is the least used tag, i.e. mapped with the lowest number of books [book_tags.csv]? (In case of more than one tag, mention the tag id with the least numerical value) (N)"
      ],
      "metadata": {
        "id": "xqOOa7dbZkSH"
      }
    },
    {
      "cell_type": "code",
      "source": [
        "import pandas as pd\n",
        "book_tags = pd.read_csv(\"book_tags.csv\")\n",
        "value_counts = book_tags.groupby(\"tag_id\")[\"goodreads_book_id\"].nunique()\n",
        "min_count = value_counts.min()\n",
        "value_counts[value_counts == min_count].index.min()"
      ],
      "metadata": {
        "colab": {
          "base_uri": "https://localhost:8080/"
        },
        "id": "AhSQulNOgKAO",
        "outputId": "eccc4f5c-e74a-4612-ff60-731c3a5745d6"
      },
      "execution_count": 9,
      "outputs": [
        {
          "output_type": "execute_result",
          "data": {
            "text/plain": [
              "28"
            ]
          },
          "metadata": {},
          "execution_count": 9
        }
      ]
    },
    {
      "cell_type": "markdown",
      "source": [
        "### Q9: Which book (title) has the minimum (average_rating) [books.csv], if more than 1 book have same average rating, sort the books by ['title'] in alphabetical order and use the first book in the sorted list? (S)"
      ],
      "metadata": {
        "id": "njqF2jNSZnTj"
      }
    },
    {
      "cell_type": "code",
      "source": [
        "import pandas as pd\n",
        "books = pd.read_csv(\"books.csv\")\n",
        "min_avg_rating = books[\"average_rating\"].min()\n",
        "books[books[\"average_rating\"] == min_avg_rating][\"title\"].sort_values(ascending=True).values[0]"
      ],
      "metadata": {
        "colab": {
          "base_uri": "https://localhost:8080/",
          "height": 35
        },
        "id": "7zENiqPYgzEG",
        "outputId": "d7d92870-f6cd-4410-fec9-6d19caa34a55"
      },
      "execution_count": 10,
      "outputs": [
        {
          "output_type": "execute_result",
          "data": {
            "text/plain": [
              "'The Almost Moon'"
            ],
            "application/vnd.google.colaboratory.intrinsic+json": {
              "type": "string"
            }
          },
          "metadata": {},
          "execution_count": 10
        }
      ]
    },
    {
      "cell_type": "markdown",
      "source": [
        "### Q10: Which book (goodreads_book_id) has the least number of count of tags given by the user ie. the book with minimum user records including all tags [book_tags.csv] ? (N)"
      ],
      "metadata": {
        "id": "Od76kGqbZqMW"
      }
    },
    {
      "cell_type": "code",
      "source": [
        "import pandas as pd\n",
        "book_tags = pd.read_csv(\"book_tags.csv\")\n",
        "value_counts = book_tags.groupby(\"goodreads_book_id\")[\"count\"].sum()\n",
        "value_counts[value_counts == value_counts.min()].index[0]"
      ],
      "metadata": {
        "colab": {
          "base_uri": "https://localhost:8080/"
        },
        "id": "ZW6FRNsEhjUf",
        "outputId": "f4ecd5b1-b816-48a1-8101-e5fac9cff68e"
      },
      "execution_count": 16,
      "outputs": [
        {
          "output_type": "execute_result",
          "data": {
            "text/plain": [
              "290039"
            ]
          },
          "metadata": {},
          "execution_count": 16
        }
      ]
    },
    {
      "cell_type": "markdown",
      "source": [
        "### Q11: How many unique tags are there in the dataset [book_tags.csv] ? (N)"
      ],
      "metadata": {
        "id": "ni6sIxAWZvA-"
      }
    },
    {
      "cell_type": "code",
      "source": [
        "import pandas as pd\n",
        "book_tags = pd.read_csv(\"book_tags.csv\")\n",
        "book_tags[\"tag_id\"].nunique()"
      ],
      "metadata": {
        "colab": {
          "base_uri": "https://localhost:8080/"
        },
        "id": "4sO94AsZiPgw",
        "outputId": "ba7e84e7-16b1-43cb-eaea-e861536b638d"
      },
      "execution_count": 17,
      "outputs": [
        {
          "output_type": "execute_result",
          "data": {
            "text/plain": [
              "8330"
            ]
          },
          "metadata": {},
          "execution_count": 17
        }
      ]
    },
    {
      "cell_type": "markdown",
      "source": [
        "### Q12: What is the mean value of rating of all the books in the dataset based on (average_rating) [books.csv] ? (F)"
      ],
      "metadata": {
        "id": "hvGdltfRZydZ"
      }
    },
    {
      "cell_type": "code",
      "source": [
        "import pandas as pd\n",
        "books = pd.read_csv(\"books.csv\")\n",
        "f\"{books['average_rating'].mean():.2f}\""
      ],
      "metadata": {
        "colab": {
          "base_uri": "https://localhost:8080/",
          "height": 35
        },
        "id": "veCGyNG5ibBU",
        "outputId": "2e57d15d-0b95-43d8-d1aa-c8ffb0665c28"
      },
      "execution_count": 19,
      "outputs": [
        {
          "output_type": "execute_result",
          "data": {
            "text/plain": [
              "'3.92'"
            ],
            "application/vnd.google.colaboratory.intrinsic+json": {
              "type": "string"
            }
          },
          "metadata": {},
          "execution_count": 19
        }
      ]
    },
    {
      "cell_type": "markdown",
      "source": [
        "### Q13: Predict sentiment using Textblob. How many positive titles (original_title) are there [books.csv] ? (cut-off >=0) N"
      ],
      "metadata": {
        "id": "DLCFMO94Z18s"
      }
    },
    {
      "cell_type": "code",
      "source": [
        "from textblob import TextBlob\n",
        "import pandas as pd\n",
        "books = pd.read_csv(\"books.csv\")\n",
        "books_cleaned = books.dropna(subset=[\"original_title\"])\n",
        "original_titles = books_cleaned[\"original_title\"].unique()\n",
        "[TextBlob(title).sentiment.polarity >= 0 for title in original_titles].count(True)"
      ],
      "metadata": {
        "colab": {
          "base_uri": "https://localhost:8080/"
        },
        "id": "nc45QdxOi7Io",
        "outputId": "4f9e6b6e-573c-4d76-90af-8504425752f8"
      },
      "execution_count": 15,
      "outputs": [
        {
          "output_type": "execute_result",
          "data": {
            "text/plain": [
              "1527"
            ]
          },
          "metadata": {},
          "execution_count": 15
        }
      ]
    }
  ]
}